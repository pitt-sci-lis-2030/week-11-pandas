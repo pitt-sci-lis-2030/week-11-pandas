{
 "cells": [
  {
   "cell_type": "markdown",
   "metadata": {},
   "source": [
    "# Week 11 Exercises - Pandas\n",
    "\n",
    "**Q1.** Convert the data below into a Pandas dataframe. You will need to copy the data into a Python data structure and then convert that into a Pandas Dataframe. \n",
    "\n",
    "```\n",
    "Name    StudentID Age         City\n",
    "Jensen      S0001  20   Pittsburgh\n",
    "Dean        S0002  22     New York\n",
    "Sam         S0003  19  Los Angeles\n",
    "Jared       S0004  18      Florida\n",
    "Castiel     S0005  21         Ohio\n",
    "Misha       S0006  25      Seattle\n",
    "```\n",
    "\n",
    "**Hint**: You could use a list of lists, a list of dictionaries, a dictionary of lists, or even a dictionary of dictionaries.  \n",
    "**Hint 2**: Don't forget the column headers! \n",
    "\n"
   ]
  },
  {
   "cell_type": "code",
   "execution_count": 1,
   "metadata": {},
   "outputs": [],
   "source": [
    "# Your code here\n"
   ]
  },
  {
   "cell_type": "markdown",
   "metadata": {},
   "source": [
    "**Q2** Load the Pittsburgh 311 Dataset (`311-data.csv`)in the files directory into a Pandas DataFrame and display the resulting table. "
   ]
  },
  {
   "cell_type": "code",
   "execution_count": null,
   "metadata": {},
   "outputs": [],
   "source": [
    "# Your code here\n"
   ]
  },
  {
   "cell_type": "markdown",
   "metadata": {},
   "source": [
    "**Q3(a)** Select the column `COUNCIL_DISTRICT`, save it to a new variable, and display the first five elements."
   ]
  },
  {
   "cell_type": "code",
   "execution_count": null,
   "metadata": {},
   "outputs": [],
   "source": [
    "# Your code here\n"
   ]
  },
  {
   "cell_type": "markdown",
   "metadata": {},
   "source": [
    "**Q3(b)** What type of data structure is the new variable you created? Put your answer in the markdown cell below."
   ]
  },
  {
   "cell_type": "markdown",
   "metadata": {},
   "source": []
  },
  {
   "cell_type": "markdown",
   "metadata": {},
   "source": [
    "**Q4(a)** Select the columns `NEIGHBORHOOD` and `REQUEST_TYPE`, save them to a new variable, and display the first eight elements."
   ]
  },
  {
   "cell_type": "code",
   "execution_count": 32,
   "metadata": {},
   "outputs": [],
   "source": [
    "# Your code here\n"
   ]
  },
  {
   "cell_type": "markdown",
   "metadata": {},
   "source": [
    "**Q4(b)** What type of data structure is the new variable you created? Put your answer in the markdown cell below."
   ]
  },
  {
   "cell_type": "markdown",
   "metadata": {},
   "source": []
  },
  {
   "cell_type": "markdown",
   "metadata": {},
   "source": [
    "**Q5(a)** What are the ten most complainy neighborhoods in Pittsburgh? "
   ]
  },
  {
   "cell_type": "code",
   "execution_count": null,
   "metadata": {},
   "outputs": [],
   "source": [
    "# Your answer here\n"
   ]
  },
  {
   "cell_type": "markdown",
   "metadata": {},
   "source": [
    "**Q5(b)** What is the most common complaint/request type in the PGH 311 Data?"
   ]
  },
  {
   "cell_type": "code",
   "execution_count": null,
   "metadata": {},
   "outputs": [],
   "source": [
    "# Your answer here\n"
   ]
  }
 ],
 "metadata": {
  "kernelspec": {
   "display_name": "Python 3",
   "language": "python",
   "name": "python3"
  },
  "language_info": {
   "codemirror_mode": {
    "name": "ipython",
    "version": 3
   },
   "file_extension": ".py",
   "mimetype": "text/x-python",
   "name": "python",
   "nbconvert_exporter": "python",
   "pygments_lexer": "ipython3",
   "version": "3.8.5"
  }
 },
 "nbformat": 4,
 "nbformat_minor": 4
}
